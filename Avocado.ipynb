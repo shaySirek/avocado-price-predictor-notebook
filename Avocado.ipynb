{
  "nbformat": 4,
  "nbformat_minor": 0,
  "metadata": {
    "colab": {
      "name": "Avocado.ipynb",
      "provenance": [],
      "collapsed_sections": [
        "s9o4MMgThRJg",
        "yAqZQI_shWAF"
      ],
      "toc_visible": true,
      "authorship_tag": "ABX9TyMh3MrFY0bFfGfIdZ2DQnFD",
      "include_colab_link": true
    },
    "kernelspec": {
      "name": "python3",
      "display_name": "Python 3"
    },
    "language_info": {
      "name": "python"
    }
  },
  "cells": [
    {
      "cell_type": "markdown",
      "metadata": {
        "id": "view-in-github",
        "colab_type": "text"
      },
      "source": [
        "<a href=\"https://colab.research.google.com/github/shaySirek/avocado-price-predictor-notebook/blob/master/Avocado.ipynb\" target=\"_parent\"><img src=\"https://colab.research.google.com/assets/colab-badge.svg\" alt=\"Open In Colab\"/></a>"
      ]
    },
    {
      "cell_type": "markdown",
      "metadata": {
        "id": "s9o4MMgThRJg"
      },
      "source": [
        "# Dataset"
      ]
    },
    {
      "cell_type": "code",
      "metadata": {
        "id": "5HgzeCsMba2R"
      },
      "source": [
        "import pandas as pd\n",
        "import numpy as np\n",
        "from math import sqrt\n",
        "import matplotlib.pyplot as plt\n",
        "\n",
        "from sklearn.model_selection import train_test_split"
      ],
      "execution_count": null,
      "outputs": []
    },
    {
      "cell_type": "code",
      "metadata": {
        "colab": {
          "base_uri": "https://localhost:8080/",
          "height": 419
        },
        "id": "pv46_lJGdMmI",
        "outputId": "cc79eaa8-5fdf-4de1-f233-1ce7c84a3b55"
      },
      "source": [
        "df = pd.read_csv('avocado.csv')\n",
        "\n",
        "df['Date'] = pd.to_datetime(df['Date'])\n",
        "df['month'] = df['Date'].dt.month\n",
        "\n",
        "seasons_conditions = [(df['month'].between(3,5,inclusive=True)),\n",
        "                      (df['month'].between(6,8,inclusive=True)),\n",
        "                      (df['month'].between(9,11,inclusive=True)),\n",
        "                      (df['month'].between(12,2,inclusive=True))]\n",
        "\n",
        "df['season'] = np.select(seasons_conditions, range(4))\n",
        "\n",
        "df = df.drop(['Unnamed: 0', 'Total Volume', 'Total Bags', 'Date', 'year', 'month'], axis=1)\n",
        "df"
      ],
      "execution_count": null,
      "outputs": [
        {
          "output_type": "execute_result",
          "data": {
            "text/html": [
              "<div>\n",
              "<style scoped>\n",
              "    .dataframe tbody tr th:only-of-type {\n",
              "        vertical-align: middle;\n",
              "    }\n",
              "\n",
              "    .dataframe tbody tr th {\n",
              "        vertical-align: top;\n",
              "    }\n",
              "\n",
              "    .dataframe thead th {\n",
              "        text-align: right;\n",
              "    }\n",
              "</style>\n",
              "<table border=\"1\" class=\"dataframe\">\n",
              "  <thead>\n",
              "    <tr style=\"text-align: right;\">\n",
              "      <th></th>\n",
              "      <th>AveragePrice</th>\n",
              "      <th>4046</th>\n",
              "      <th>4225</th>\n",
              "      <th>4770</th>\n",
              "      <th>Small Bags</th>\n",
              "      <th>Large Bags</th>\n",
              "      <th>XLarge Bags</th>\n",
              "      <th>type</th>\n",
              "      <th>region</th>\n",
              "      <th>season</th>\n",
              "    </tr>\n",
              "  </thead>\n",
              "  <tbody>\n",
              "    <tr>\n",
              "      <th>0</th>\n",
              "      <td>1.33</td>\n",
              "      <td>1036.74</td>\n",
              "      <td>54454.85</td>\n",
              "      <td>48.16</td>\n",
              "      <td>8603.62</td>\n",
              "      <td>93.25</td>\n",
              "      <td>0.0</td>\n",
              "      <td>conventional</td>\n",
              "      <td>Albany</td>\n",
              "      <td>0</td>\n",
              "    </tr>\n",
              "    <tr>\n",
              "      <th>1</th>\n",
              "      <td>1.35</td>\n",
              "      <td>674.28</td>\n",
              "      <td>44638.81</td>\n",
              "      <td>58.33</td>\n",
              "      <td>9408.07</td>\n",
              "      <td>97.49</td>\n",
              "      <td>0.0</td>\n",
              "      <td>conventional</td>\n",
              "      <td>Albany</td>\n",
              "      <td>0</td>\n",
              "    </tr>\n",
              "    <tr>\n",
              "      <th>2</th>\n",
              "      <td>0.93</td>\n",
              "      <td>794.70</td>\n",
              "      <td>109149.67</td>\n",
              "      <td>130.50</td>\n",
              "      <td>8042.21</td>\n",
              "      <td>103.14</td>\n",
              "      <td>0.0</td>\n",
              "      <td>conventional</td>\n",
              "      <td>Albany</td>\n",
              "      <td>0</td>\n",
              "    </tr>\n",
              "    <tr>\n",
              "      <th>3</th>\n",
              "      <td>1.08</td>\n",
              "      <td>1132.00</td>\n",
              "      <td>71976.41</td>\n",
              "      <td>72.58</td>\n",
              "      <td>5677.40</td>\n",
              "      <td>133.76</td>\n",
              "      <td>0.0</td>\n",
              "      <td>conventional</td>\n",
              "      <td>Albany</td>\n",
              "      <td>0</td>\n",
              "    </tr>\n",
              "    <tr>\n",
              "      <th>4</th>\n",
              "      <td>1.28</td>\n",
              "      <td>941.48</td>\n",
              "      <td>43838.39</td>\n",
              "      <td>75.78</td>\n",
              "      <td>5986.26</td>\n",
              "      <td>197.69</td>\n",
              "      <td>0.0</td>\n",
              "      <td>conventional</td>\n",
              "      <td>Albany</td>\n",
              "      <td>2</td>\n",
              "    </tr>\n",
              "    <tr>\n",
              "      <th>...</th>\n",
              "      <td>...</td>\n",
              "      <td>...</td>\n",
              "      <td>...</td>\n",
              "      <td>...</td>\n",
              "      <td>...</td>\n",
              "      <td>...</td>\n",
              "      <td>...</td>\n",
              "      <td>...</td>\n",
              "      <td>...</td>\n",
              "      <td>...</td>\n",
              "    </tr>\n",
              "    <tr>\n",
              "      <th>18244</th>\n",
              "      <td>1.63</td>\n",
              "      <td>2046.96</td>\n",
              "      <td>1529.20</td>\n",
              "      <td>0.00</td>\n",
              "      <td>13066.82</td>\n",
              "      <td>431.85</td>\n",
              "      <td>0.0</td>\n",
              "      <td>organic</td>\n",
              "      <td>WestTexNewMexico</td>\n",
              "      <td>0</td>\n",
              "    </tr>\n",
              "    <tr>\n",
              "      <th>18245</th>\n",
              "      <td>1.71</td>\n",
              "      <td>1191.70</td>\n",
              "      <td>3431.50</td>\n",
              "      <td>0.00</td>\n",
              "      <td>8940.04</td>\n",
              "      <td>324.80</td>\n",
              "      <td>0.0</td>\n",
              "      <td>organic</td>\n",
              "      <td>WestTexNewMexico</td>\n",
              "      <td>0</td>\n",
              "    </tr>\n",
              "    <tr>\n",
              "      <th>18246</th>\n",
              "      <td>1.87</td>\n",
              "      <td>1191.92</td>\n",
              "      <td>2452.79</td>\n",
              "      <td>727.94</td>\n",
              "      <td>9351.80</td>\n",
              "      <td>42.31</td>\n",
              "      <td>0.0</td>\n",
              "      <td>organic</td>\n",
              "      <td>WestTexNewMexico</td>\n",
              "      <td>0</td>\n",
              "    </tr>\n",
              "    <tr>\n",
              "      <th>18247</th>\n",
              "      <td>1.93</td>\n",
              "      <td>1527.63</td>\n",
              "      <td>2981.04</td>\n",
              "      <td>727.01</td>\n",
              "      <td>10919.54</td>\n",
              "      <td>50.00</td>\n",
              "      <td>0.0</td>\n",
              "      <td>organic</td>\n",
              "      <td>WestTexNewMexico</td>\n",
              "      <td>0</td>\n",
              "    </tr>\n",
              "    <tr>\n",
              "      <th>18248</th>\n",
              "      <td>1.62</td>\n",
              "      <td>2894.77</td>\n",
              "      <td>2356.13</td>\n",
              "      <td>224.53</td>\n",
              "      <td>11988.14</td>\n",
              "      <td>26.01</td>\n",
              "      <td>0.0</td>\n",
              "      <td>organic</td>\n",
              "      <td>WestTexNewMexico</td>\n",
              "      <td>0</td>\n",
              "    </tr>\n",
              "  </tbody>\n",
              "</table>\n",
              "<p>18249 rows × 10 columns</p>\n",
              "</div>"
            ],
            "text/plain": [
              "       AveragePrice     4046       4225  ...          type            region  season\n",
              "0              1.33  1036.74   54454.85  ...  conventional            Albany       0\n",
              "1              1.35   674.28   44638.81  ...  conventional            Albany       0\n",
              "2              0.93   794.70  109149.67  ...  conventional            Albany       0\n",
              "3              1.08  1132.00   71976.41  ...  conventional            Albany       0\n",
              "4              1.28   941.48   43838.39  ...  conventional            Albany       2\n",
              "...             ...      ...        ...  ...           ...               ...     ...\n",
              "18244          1.63  2046.96    1529.20  ...       organic  WestTexNewMexico       0\n",
              "18245          1.71  1191.70    3431.50  ...       organic  WestTexNewMexico       0\n",
              "18246          1.87  1191.92    2452.79  ...       organic  WestTexNewMexico       0\n",
              "18247          1.93  1527.63    2981.04  ...       organic  WestTexNewMexico       0\n",
              "18248          1.62  2894.77    2356.13  ...       organic  WestTexNewMexico       0\n",
              "\n",
              "[18249 rows x 10 columns]"
            ]
          },
          "metadata": {
            "tags": []
          },
          "execution_count": 20
        }
      ]
    },
    {
      "cell_type": "code",
      "metadata": {
        "id": "5h6Byb2keI9E"
      },
      "source": [
        "Y_COLUMN = 'AveragePrice'\n",
        "X = df.drop([Y_COLUMN], axis=1)\n",
        "y = df[Y_COLUMN]\n",
        "\n",
        "X_train, X_test, y_train, y_test = train_test_split(X, y, test_size=0.2, random_state=42)\n",
        "X_train = X_train.reset_index().drop([\"index\"], axis=1)\n",
        "X_test = X_test.reset_index().drop([\"index\"], axis=1)\n",
        "y_train = y_train.reset_index().drop([\"index\"], axis=1)\n",
        "y_test = y_test.reset_index().drop([\"index\"], axis=1)"
      ],
      "execution_count": null,
      "outputs": []
    },
    {
      "cell_type": "markdown",
      "metadata": {
        "id": "yAqZQI_shWAF"
      },
      "source": [
        "# Model"
      ]
    },
    {
      "cell_type": "code",
      "metadata": {
        "id": "rdyjB1rSr5yA"
      },
      "source": [
        "from sklearn.ensemble import RandomForestRegressor, GradientBoostingRegressor\n",
        "from sklearn.pipeline import Pipeline\n",
        "from sklearn.metrics import r2_score, mean_squared_error\n",
        "from sklearn.inspection import permutation_importance\n",
        "from sklearn.compose import ColumnTransformer\n",
        "from sklearn.preprocessing import OrdinalEncoder, StandardScaler"
      ],
      "execution_count": null,
      "outputs": []
    },
    {
      "cell_type": "code",
      "metadata": {
        "id": "pw5twYiNiihe"
      },
      "source": [
        "def score(pipe, X_test, y_test):\n",
        "  y_pred = pipe.predict(X_test)\n",
        "  r2 = r2_score(y_test, y_pred)\n",
        "  mse = mean_squared_error(y_test, y_pred)\n",
        "  rmse = sqrt(mse)\n",
        "  return r2, rmse"
      ],
      "execution_count": null,
      "outputs": []
    },
    {
      "cell_type": "code",
      "metadata": {
        "id": "kI0FIwPv3xqz"
      },
      "source": [
        "numeric_cols = ['4046', '4225', '4770', 'Small Bags', 'Large Bags', 'XLarge Bags']\n",
        "categorial_cols = ['region', 'type']"
      ],
      "execution_count": null,
      "outputs": []
    },
    {
      "cell_type": "code",
      "metadata": {
        "colab": {
          "base_uri": "https://localhost:8080/"
        },
        "id": "NbAbIFE52HZt",
        "outputId": "214df321-167f-485f-d1d9-6ff303b672ea"
      },
      "source": [
        "preprocessor = ColumnTransformer([\n",
        "        ('cat', OrdinalEncoder(), categorial_cols),\n",
        "        ('num', StandardScaler(), numeric_cols)],\n",
        "        remainder='passthrough')\n",
        "preprocessor"
      ],
      "execution_count": null,
      "outputs": [
        {
          "output_type": "execute_result",
          "data": {
            "text/plain": [
              "ColumnTransformer(n_jobs=None, remainder='passthrough', sparse_threshold=0.3,\n",
              "                  transformer_weights=None,\n",
              "                  transformers=[('cat',\n",
              "                                 OrdinalEncoder(categories='auto',\n",
              "                                                dtype=<class 'numpy.float64'>),\n",
              "                                 ['region', 'type']),\n",
              "                                ('num',\n",
              "                                 StandardScaler(copy=True, with_mean=True,\n",
              "                                                with_std=True),\n",
              "                                 ['4046', '4225', '4770', 'Small Bags',\n",
              "                                  'Large Bags', 'XLarge Bags'])],\n",
              "                  verbose=False)"
            ]
          },
          "metadata": {
            "tags": []
          },
          "execution_count": 43
        }
      ]
    },
    {
      "cell_type": "code",
      "metadata": {
        "colab": {
          "base_uri": "https://localhost:8080/"
        },
        "id": "2zG3zFU7hGTR",
        "outputId": "473d9a01-3601-41a8-e82b-30473717765f"
      },
      "source": [
        "params = {'random_state': 42,\n",
        "          'n_estimators': 5000,\n",
        "          'max_depth': 8,\n",
        "          'min_samples_split': 3,\n",
        "          'learning_rate': 0.01,\n",
        "          'loss': 'ls'}\n",
        "\n",
        "gb_pipe = Pipeline([(\"preprocess\", preprocessor), ('gb', GradientBoostingRegressor(**params))])\n",
        "gb_pipe.fit(X_train, y_train)"
      ],
      "execution_count": null,
      "outputs": [
        {
          "output_type": "stream",
          "text": [
            "/usr/local/lib/python3.7/dist-packages/sklearn/ensemble/_gb.py:1454: DataConversionWarning: A column-vector y was passed when a 1d array was expected. Please change the shape of y to (n_samples, ), for example using ravel().\n",
            "  y = column_or_1d(y, warn=True)\n"
          ],
          "name": "stderr"
        },
        {
          "output_type": "execute_result",
          "data": {
            "text/plain": [
              "Pipeline(memory=None,\n",
              "         steps=[('preprocess',\n",
              "                 ColumnTransformer(n_jobs=None, remainder='passthrough',\n",
              "                                   sparse_threshold=0.3,\n",
              "                                   transformer_weights=None,\n",
              "                                   transformers=[('cat',\n",
              "                                                  OrdinalEncoder(categories='auto',\n",
              "                                                                 dtype=<class 'numpy.float64'>),\n",
              "                                                  ['region', 'type']),\n",
              "                                                 ('num',\n",
              "                                                  StandardScaler(copy=True,\n",
              "                                                                 with_mean=True,\n",
              "                                                                 with_std=True),\n",
              "                                                  ['4046', '4225', '4770',\n",
              "                                                   'Small Bags', 'Large Bag...\n",
              "                                           learning_rate=0.01, loss='ls',\n",
              "                                           max_depth=8, max_features=None,\n",
              "                                           max_leaf_nodes=None,\n",
              "                                           min_impurity_decrease=0.0,\n",
              "                                           min_impurity_split=None,\n",
              "                                           min_samples_leaf=1,\n",
              "                                           min_samples_split=3,\n",
              "                                           min_weight_fraction_leaf=0.0,\n",
              "                                           n_estimators=5000,\n",
              "                                           n_iter_no_change=None,\n",
              "                                           presort='deprecated',\n",
              "                                           random_state=42, subsample=1.0,\n",
              "                                           tol=0.0001, validation_fraction=0.1,\n",
              "                                           verbose=0, warm_start=False))],\n",
              "         verbose=False)"
            ]
          },
          "metadata": {
            "tags": []
          },
          "execution_count": 44
        }
      ]
    },
    {
      "cell_type": "code",
      "metadata": {
        "colab": {
          "base_uri": "https://localhost:8080/"
        },
        "id": "KcAhHeDcgfxU",
        "outputId": "06b0dbbe-41f6-43f9-ffbc-41fe7b4d3711"
      },
      "source": [
        "gb_r2, gb_rmse = score(gb_pipe, X_test, y_test)\n",
        "print(f\"r2: {gb_r2}\\nrmse: {gb_rmse}\")"
      ],
      "execution_count": null,
      "outputs": [
        {
          "output_type": "stream",
          "text": [
            "r2: 0.856427071388753\n",
            "rmse: 0.15188064665784784\n"
          ],
          "name": "stdout"
        }
      ]
    },
    {
      "cell_type": "code",
      "metadata": {
        "colab": {
          "base_uri": "https://localhost:8080/",
          "height": 441
        },
        "id": "aZG2LHvmCQUf",
        "outputId": "f25b883b-43c3-468c-e5a5-17fccc7ebb59"
      },
      "source": [
        "reg = gb_pipe.steps[1][1]\n",
        "feature_importance = reg.feature_importances_\n",
        "sorted_idx = np.argsort(feature_importance)\n",
        "pos = np.arange(sorted_idx.shape[0]) + .5\n",
        "\n",
        "fig = plt.figure(figsize=(12, 6))\n",
        "plt.subplot(1, 2, 1)\n",
        "plt.barh(pos, feature_importance[sorted_idx], align='center')\n",
        "plt.yticks(pos, np.array(X.columns)[sorted_idx])\n",
        "plt.title('Feature Importance (MDI)')\n",
        "fig.tight_layout()\n",
        "plt.show()"
      ],
      "execution_count": null,
      "outputs": [
        {
          "output_type": "display_data",
          "data": {
            "image/png": "[encoded data removed]",
            "text/plain": [
              "<Figure size 864x432 with 1 Axes>"
            ]
          },
          "metadata": {
            "tags": [],
            "needs_background": "light"
          }
        }
      ]
    },
    {
      "cell_type": "code",
      "metadata": {
        "colab": {
          "base_uri": "https://localhost:8080/"
        },
        "id": "7VuC9kWmHL6v",
        "outputId": "7b217e22-e1cf-46e5-919a-2e1711768d66"
      },
      "source": [
        "feature_importance[sorted_idx], np.array(X.columns)[sorted_idx]"
      ],
      "execution_count": null,
      "outputs": [
        {
          "output_type": "execute_result",
          "data": {
            "text/plain": [
              "(array([0.0254613 , 0.04945131, 0.05153732, 0.07459862, 0.08439239,\n",
              "        0.10565244, 0.10596048, 0.11580412, 0.387142  ]),\n",
              " array(['region', 'Large Bags', 'season', '4046', 'XLarge Bags',\n",
              "        'Small Bags', 'type', '4770', '4225'], dtype=object))"
            ]
          },
          "metadata": {
            "tags": []
          },
          "execution_count": 47
        }
      ]
    },
    {
      "cell_type": "code",
      "metadata": {
        "colab": {
          "base_uri": "https://localhost:8080/"
        },
        "id": "2O_oq1D5hfk3",
        "outputId": "7dec361c-0eb0-4ee8-e97e-141ef10d4285"
      },
      "source": [
        "params = {'random_state': 42,\n",
        "          'n_estimators': 5000,\n",
        "          'max_depth': 8,\n",
        "          'min_samples_split': 3,\n",
        "          }\n",
        "\n",
        "rf_pipe = Pipeline([('scaler', StandardScaler()), ('rf', RandomForestRegressor(**params))])\n",
        "rf_pipe.fit(X_train, y_train)"
      ],
      "execution_count": null,
      "outputs": [
        {
          "output_type": "stream",
          "text": [
            "/usr/local/lib/python3.7/dist-packages/sklearn/pipeline.py:354: DataConversionWarning: A column-vector y was passed when a 1d array was expected. Please change the shape of y to (n_samples,), for example using ravel().\n",
            "  self._final_estimator.fit(Xt, y, **fit_params)\n"
          ],
          "name": "stderr"
        },
        {
          "output_type": "execute_result",
          "data": {
            "text/plain": [
              "Pipeline(memory=None,\n",
              "         steps=[('scaler',\n",
              "                 StandardScaler(copy=True, with_mean=True, with_std=True)),\n",
              "                ('rf',\n",
              "                 RandomForestRegressor(bootstrap=True, ccp_alpha=0.0,\n",
              "                                       criterion='mse', max_depth=8,\n",
              "                                       max_features='auto', max_leaf_nodes=None,\n",
              "                                       max_samples=None,\n",
              "                                       min_impurity_decrease=0.0,\n",
              "                                       min_impurity_split=None,\n",
              "                                       min_samples_leaf=1, min_samples_split=3,\n",
              "                                       min_weight_fraction_leaf=0.0,\n",
              "                                       n_estimators=5000, n_jobs=None,\n",
              "                                       oob_score=False, random_state=42,\n",
              "                                       verbose=0, warm_start=False))],\n",
              "         verbose=False)"
            ]
          },
          "metadata": {
            "tags": []
          },
          "execution_count": 11
        }
      ]
    },
    {
      "cell_type": "code",
      "metadata": {
        "colab": {
          "base_uri": "https://localhost:8080/"
        },
        "id": "U3BkoCNKhqtH",
        "outputId": "741b3687-c8d1-4485-ef5b-9580e28c5af5"
      },
      "source": [
        "rf_r2, rf_rmse = score(rf_pipe, X_test, y_test)\n",
        "print(f\"r2: {rf_r2}\\nrmse: {rf_rmse}\")"
      ],
      "execution_count": null,
      "outputs": [
        {
          "output_type": "stream",
          "text": [
            "r2: 0.7073544483320073\n",
            "rmse: 0.21683886303773522\n"
          ],
          "name": "stdout"
        }
      ]
    },
    {
      "cell_type": "markdown",
      "metadata": {
        "id": "4eCkHoAMtGh_"
      },
      "source": [
        "# Export"
      ]
    },
    {
      "cell_type": "code",
      "metadata": {
        "colab": {
          "base_uri": "https://localhost:8080/"
        },
        "id": "RMxNrVo1CMXB",
        "outputId": "fb2dec5b-1a35-4a16-eae6-73285a7d3b5a"
      },
      "source": [
        "gb_pipe"
      ],
      "execution_count": null,
      "outputs": [
        {
          "output_type": "execute_result",
          "data": {
            "text/plain": [
              "Pipeline(memory=None,\n",
              "         steps=[('preprocess',\n",
              "                 ColumnTransformer(n_jobs=None, remainder='passthrough',\n",
              "                                   sparse_threshold=0.3,\n",
              "                                   transformer_weights=None,\n",
              "                                   transformers=[('cat',\n",
              "                                                  OrdinalEncoder(categories='auto',\n",
              "                                                                 dtype=<class 'numpy.float64'>),\n",
              "                                                  ['region', 'type']),\n",
              "                                                 ('num',\n",
              "                                                  StandardScaler(copy=True,\n",
              "                                                                 with_mean=True,\n",
              "                                                                 with_std=True),\n",
              "                                                  ['4046', '4225', '4770',\n",
              "                                                   'Small Bags', 'Large Bag...\n",
              "                                           learning_rate=0.01, loss='ls',\n",
              "                                           max_depth=8, max_features=None,\n",
              "                                           max_leaf_nodes=None,\n",
              "                                           min_impurity_decrease=0.0,\n",
              "                                           min_impurity_split=None,\n",
              "                                           min_samples_leaf=1,\n",
              "                                           min_samples_split=3,\n",
              "                                           min_weight_fraction_leaf=0.0,\n",
              "                                           n_estimators=5000,\n",
              "                                           n_iter_no_change=None,\n",
              "                                           presort='deprecated',\n",
              "                                           random_state=42, subsample=1.0,\n",
              "                                           tol=0.0001, validation_fraction=0.1,\n",
              "                                           verbose=0, warm_start=False))],\n",
              "         verbose=False)"
            ]
          },
          "metadata": {
            "tags": []
          },
          "execution_count": 48
        }
      ]
    },
    {
      "cell_type": "code",
      "metadata": {
        "id": "sHklpncUqH5-"
      },
      "source": [
        "import pickle\n",
        "s = pickle.dumps(gb_pipe)"
      ],
      "execution_count": null,
      "outputs": []
    },
    {
      "cell_type": "code",
      "metadata": {
        "id": "JmorrC5crPqz"
      },
      "source": [
        "with open('model.pkl', 'wb') as f:\n",
        "  f.write(s)"
      ],
      "execution_count": null,
      "outputs": []
    },
    {
      "cell_type": "code",
      "metadata": {
        "colab": {
          "base_uri": "https://localhost:8080/"
        },
        "id": "IWR6Ts3crxN4",
        "outputId": "6b15634e-0636-4d1e-9201-1c4f4765ead4"
      },
      "source": [
        "with open('model.pkl', 'rb') as f:\n",
        "  loaded = f.read()\n",
        "\n",
        "loaded_pipe = pickle.loads(loaded)\n",
        "loaded_pipe"
      ],
      "execution_count": null,
      "outputs": [
        {
          "output_type": "execute_result",
          "data": {
            "text/plain": [
              "Pipeline(memory=None,\n",
              "         steps=[('preprocess',\n",
              "                 ColumnTransformer(n_jobs=None, remainder='passthrough',\n",
              "                                   sparse_threshold=0.3,\n",
              "                                   transformer_weights=None,\n",
              "                                   transformers=[('cat',\n",
              "                                                  OrdinalEncoder(categories='auto',\n",
              "                                                                 dtype=<class 'numpy.float64'>),\n",
              "                                                  ['region', 'type']),\n",
              "                                                 ('num',\n",
              "                                                  StandardScaler(copy=True,\n",
              "                                                                 with_mean=True,\n",
              "                                                                 with_std=True),\n",
              "                                                  ['4046', '4225', '4770',\n",
              "                                                   'Small Bags', 'Large Bag...\n",
              "                                           learning_rate=0.01, loss='ls',\n",
              "                                           max_depth=8, max_features=None,\n",
              "                                           max_leaf_nodes=None,\n",
              "                                           min_impurity_decrease=0.0,\n",
              "                                           min_impurity_split=None,\n",
              "                                           min_samples_leaf=1,\n",
              "                                           min_samples_split=3,\n",
              "                                           min_weight_fraction_leaf=0.0,\n",
              "                                           n_estimators=5000,\n",
              "                                           n_iter_no_change=None,\n",
              "                                           presort='deprecated',\n",
              "                                           random_state=42, subsample=1.0,\n",
              "                                           tol=0.0001, validation_fraction=0.1,\n",
              "                                           verbose=0, warm_start=False))],\n",
              "         verbose=False)"
            ]
          },
          "metadata": {
            "tags": []
          },
          "execution_count": 51
        }
      ]
    },
    {
      "cell_type": "code",
      "metadata": {
        "colab": {
          "base_uri": "https://localhost:8080/"
        },
        "id": "fthMD2XSsGuz",
        "outputId": "10ef9540-4fb3-4d7b-abc7-0d1492a08373"
      },
      "source": [
        "gb_r2, gb_rmse = score(loaded_pipe, X_test, y_test)\n",
        "print(f\"r2: {gb_r2}\\nrmse: {gb_rmse}\")"
      ],
      "execution_count": null,
      "outputs": [
        {
          "output_type": "stream",
          "text": [
            "r2: 0.856427071388753\n",
            "rmse: 0.15188064665784784\n"
          ],
          "name": "stdout"
        }
      ]
    }
  ]
}